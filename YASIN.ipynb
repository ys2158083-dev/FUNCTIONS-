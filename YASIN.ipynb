{
  "nbformat": 4,
  "nbformat_minor": 0,
  "metadata": {
    "colab": {
      "provenance": []
    },
    "kernelspec": {
      "name": "python3",
      "display_name": "Python 3"
    },
    "language_info": {
      "name": "python"
    }
  },
  "cells": [
    {
      "cell_type": "markdown",
      "source": [
        " # functions\n",
        "\n",
        "#1 . . What is the difference between a function and a method in Python ?\n",
        "-> In Python, both functions and methods are blocks of code that perform a specific task. However, the key difference lies in their association with objects and classes:\n",
        "\n",
        "- Function: A standalone block of code that can be called independently. It's not tied to any specific object or class. You can call a function using its name followed by parentheses containing any required arguments.\n",
        "- Method: A block of code that's associated with an object or a class. It's typically used to perform an action on the object's data or to modify its state. You call a method on an object using dot notation (object.method()).\n",
        "\n",
        "\n",
        "#2.  Explain the concept of function arguments and parameters in Python.\n",
        "-> In Python, parameters and arguments are related but distinct concepts when working with functions.\n",
        "\n",
        "- Parameters: These are the variables defined in a function's definition that receive values when the function is called. Parameters are the placeholders for the values that will be passed to the function.\n",
        "- Arguments: These are the actual values passed to a function when it's called. Arguments are assigned to the parameters defined in the function definition.\n",
        "\n",
        "#3. What are the different ways to define and call a function in Python?\n",
        "-> Defining and Calling Functions in Python\n",
        "\n",
        "Python provides several ways to define and call functions. Here are some of the most common methods:\n",
        "\n",
        "Defining Functions:\n",
        "\n",
        "1. Basic Function Definition:\n",
        "\n",
        "def greet(name):\n",
        "    print(f\"Hello, {name}!\")\n",
        "\n",
        "\n",
        "2. Function with Default Arguments:\n",
        "\n",
        "def greet(name, age=30):\n",
        "    print(f\"Hello, {name}! You are {age} years old.\")\n",
        "\n",
        "\n",
        "3. Function with Variable-Length Arguments:\n",
        "\n",
        "def sum_numbers(*numbers):\n",
        "    return sum(numbers)\n",
        "\n",
        "\n",
        "4. Function with Keyword-Only Arguments:\n",
        "\n",
        "def greet(name, *, age):\n",
        "    print(f\"Hello, {name}! You are {age} years old.\")\n",
        "\n",
        "\n",
        "5. Lambda Functions:\n",
        "\n",
        "greet = lambda name: print(f\"Hello, {name}!\")\n",
        "\n",
        "#4. What is the purpose of the `return` statement in a Python function?\n",
        "-> The return statement in a Python function serves several purposes:\n",
        "\n",
        "1. Returning Values: The primary purpose of the return statement is to return values from a function to the caller. This allows the function to produce output that can be used in the rest of the program.\n",
        "\n",
        "2. Exiting the Function: When a return statement is encountered, the function execution is terminated, and control is passed back to the caller.\n",
        "\n",
        "3. Returning Multiple Values: Python functions can return multiple values using tuples, lists, or dictionaries.\n",
        "\n",
        "#5. What are iterators in Python and how do they differ from iterables?\n",
        "->\n",
        "In Python, iterators and iterables are two related but distinct concepts that enable you to work with sequences of data.\n",
        "\n",
        "Iterables:\n",
        "\n",
        "- An iterable is an object that can be iterated over, meaning its elements can be accessed one at a time.\n",
        "- Examples of iterables include lists, tuples, dictionaries, sets, and strings.\n",
        "- An iterable object defines the __iter__() method, which returns an iterator object.\n",
        "\n",
        "Iterators:\n",
        "\n",
        "- An iterator is an object that keeps track of its current position in a sequence and can be used to retrieve the next element.\n",
        "- An iterator object defines the __next__() method, which returns the next element in the sequence.\n",
        "- When there are no more elements, the __next__() method raises a StopIteration exception.\n",
        "\n",
        "#6. Explain the concept of generators in Python and how they are defined.\n",
        "-> Generators in Python\n",
        "\n",
        "Generators are a type of iterable in Python that allow you to generate a sequence of values on-the-fly, rather than computing them all at once and storing them in a data structure like a list. This can be useful for working with large datasets or for creating complex sequences of values.\n",
        "\n",
        "Defining a Generator:\n",
        "\n",
        "A generator is defined using a function that contains the yield keyword instead of return. When a generator function is called, it returns a generator object that can be used to iterate over the sequence of values.\n",
        "\n",
        "#7.  What are the advantages of using generators over regular functions?\n",
        "-> Advantages of Generators over Regular Functions\n",
        "\n",
        "Generators offer several advantages over regular functions:\n",
        "\n",
        "1. Memory Efficiency: Generators use less memory than regular functions because they don't need to store the entire sequence of values in memory. Instead, they generate values on-the-fly as needed.\n",
        "\n",
        "2. Lazy Evaluation: Generators use lazy evaluation, which means they only compute the next value in the sequence when it's actually needed. This can be useful for expensive computations or when working with large datasets.\n",
        "\n",
        "3. Flexibility: Generators can be used to create complex sequences of values that would be difficult or impossible to store in a data structure like a list.\n",
        "\n",
        "4. Improved Performance: Generators can improve performance by avoiding the need to create and store large data structures in memory.\n",
        "\n",
        "5. Infinite Sequences: Generators can be used to create infinite sequences of values, which would be impossible to store in a data structure like a list.\n",
        "\n",
        "6. Pipelining: Generators can be used to create pipelines of operations, where each generator in the pipeline processes the output of the previous generator.\n",
        "\n",
        "#8. What is a lambda function in Python and when is it typically used?\n",
        "-> Lambda Functions in Python\n",
        "\n",
        "A lambda function is a small, anonymous function in Python that can be defined inline within a larger expression. It's a shorthand way to create a function without declaring it with a def statement.\n",
        "\n",
        "Syntax:\n",
        "\n",
        "The syntax for a lambda function is:\n",
        "\n",
        "lambda arguments: expression\n",
        "\n",
        "\n",
        "Example:\n",
        "\n",
        "Here's an example of a simple lambda function:\n",
        "\n",
        "add_five = lambda x: x + 5\n",
        "print(add_five(10))  # Output: 15\n",
        "\n",
        "#9. Explain the purpose and usage of the `map()` function in Python.\n",
        "-> *The map() Function in Python*\n",
        "\n",
        "The map() function is a built-in Python function that applies a given function to each item of an iterable (such as a list, tuple, or string) and returns a map object, which is an iterator.\n",
        "\n",
        "Purpose:\n",
        "\n",
        "The purpose of the map() function is to:\n",
        "\n",
        "1. Apply a transformation: Apply a given function to each item of an iterable, transforming the data in some way.\n",
        "2. Create a new iterable: Return a new iterable that contains the transformed data.\n",
        "\n",
        "Usage:\n",
        "\n",
        "The general syntax of the map() function is:\n",
        "\n",
        "map(function, iterable)\n",
        "\n",
        "\n",
        "Where:\n",
        "\n",
        "- function is the function to be applied to each item of the iterable.\n",
        "- iterable is the iterable (such as a list, tuple, or string) that you want to transform.\n",
        "\n",
        "#10.  What is the difference between `map()`, `reduce()`, and `filter()` functions in Python ?\n",
        "-> *map(), reduce(), and filter() Functions in Python*\n",
        "\n",
        "map(), reduce(), and filter() are three built-in Python functions that are used to process iterables. While they share some similarities, they serve distinct purposes and have different use cases.\n",
        "\n",
        "*map() Function:*\n",
        "\n",
        "- Purpose: Apply a function to each item of an iterable and return a new iterable with the transformed data.\n",
        "- Syntax: map(function, iterable)\n",
        "- Example: list(map(lambda x: x ** 2, [1, 2, 3])) returns [1, 4, 9]\n",
        "\n",
        "*filter() Function:*\n",
        "\n",
        "- Purpose: Filter out items from an iterable that don't meet a certain condition and return a new iterable with the filtered data.\n",
        "- Syntax: filter(function, iterable)\n",
        "- Example: list(filter(lambda x: x > 2, [1, 2, 3, 4])) returns [3, 4]\n",
        "\n",
        "*reduce() Function:*\n",
        "\n",
        "- Purpose: Apply a function to an iterable in a cumulative way, reducing the iterable to a single output value.\n",
        "- Syntax: reduce(function, iterable)\n",
        "- Example: reduce(lambda x, y: x + y, [1, 2, 3, 4]) returns 10 (i.e., 1 + 2 + 3 + 4)\n",
        "\n",
        "Key differences:\n",
        "\n",
        "- map() transforms data, filter() filters data, and reduce() reduces data to a single value.\n",
        "- map() and filter() return iterables, while reduce() returns a single value.\n",
        "\n",
        "#11. Using pen & Paper write the internal mechanism for sum operation using  reduce function on this given\n",
        " list:[47,11,42,13];\n",
        " -> *Internal Mechanism of reduce() Function for Sum Operation*\n",
        "\n",
        "Let's break down the internal mechanism of the reduce() function for the sum operation on the given list: [47, 11, 42, 13].\n",
        "\n",
        "Step-by-Step Calculation:\n",
        "\n",
        "1. Initial Call: reduce(lambda x, y: x + y, [47, 11, 42, 13])\n",
        "2. First Iteration: x = 47, y = 11\n",
        "    - x + y = 47 + 11 = 58\n",
        "    - Result: 58\n",
        "3. Second Iteration: x = 58, y = 42\n",
        "    - x + y = 58 + 42 = 100\n",
        "    - Result: 100\n",
        "4. Third Iteration: x = 100, y = 13\n",
        "    - x + y = 100 + 13 = 113\n",
        "    - Result: 113\n",
        "\n",
        "Final Result:\n",
        "\n",
        "The final result of the reduce() function is 113, which is the sum of all elements in the list.\n",
        "\n",
        "Visual Representation:\n",
        "\n",
        "Here's a visual representation of the calculation process:\n",
        "\n",
        "\n",
        "47 + 11 = 58\n",
        "58 + 42 = 100\n",
        "100 + 13 = 113\n",
        "\n",
        "\n",
        "Code Verification:\n",
        "\n",
        "Let's verify the result using Python code:\n",
        "\n",
        "from functools import reduce\n",
        "\n",
        "numbers = [47, 11, 42, 13]\n",
        "result = reduce(lambda x, y: x + y, numbers)\n",
        "print(result)  # Output: 113\n",
        "\n",
        "\n",
        "The result matches our manual calculation, confirming that the reduce() function works as expected.\n",
        "\n",
        "\n",
        "\n",
        "\n",
        "\n"
      ],
      "metadata": {
        "id": "ABr4tkKmHDGh"
      }
    },
    {
      "cell_type": "code",
      "source": [
        "#1. Write a Python function that takes a list of numbers as input and returns the sum of all even numbers in\n",
        "''\n",
        "def sum_even_numbers(numbers):\n",
        "    return sum([num for num in numbers if num % 2 == 0])\n",
        "\n",
        "numbers = [47, 11, 42, 13]\n",
        "print(sum_even_numbers(numbers))\n",
        "''\n",
        "''\n",
        "def sum_even_numbers(numbers):\n",
        "    sum = 0\n",
        "    for num in numbers:\n",
        "        if num % 2 == 0:\n",
        "            sum += num\n",
        "    return sum\n",
        "\n",
        "numbers = [47, 11, 42, 13]\n",
        "print(sum_even_numbers(numbers))\n",
        "''\n",
        "''\n",
        "def sum_even_numbers(numbers):\n",
        "    return sum(filter(lambda x: x % 2 == 0, numbers))\n",
        "\n",
        "numbers = [47, 11, 42, 13]\n",
        "print(sum_even_numbers(numbers))\n",
        "''\n"
      ],
      "metadata": {
        "colab": {
          "base_uri": "https://localhost:8080/",
          "height": 90
        },
        "id": "9KMIQeFbOVcJ",
        "outputId": "0e5b0d5f-85f5-40be-cca4-d24ef89f96fb"
      },
      "execution_count": null,
      "outputs": [
        {
          "output_type": "stream",
          "name": "stdout",
          "text": [
            "42\n",
            "42\n",
            "42\n"
          ]
        },
        {
          "output_type": "execute_result",
          "data": {
            "text/plain": [
              "''"
            ],
            "application/vnd.google.colaboratory.intrinsic+json": {
              "type": "string"
            }
          },
          "metadata": {},
          "execution_count": 5
        }
      ]
    },
    {
      "cell_type": "code",
      "source": [
        "#2. Create a Python function that accepts a string and returns the reverse of that string.\n",
        "''\n",
        "def reverse_string(s):\n",
        "    return s[::-1]\n",
        "\n",
        "string = \"Hello, World!\"\n",
        "print(reverse_string(string))\n",
        "''\n",
        "''\n",
        "def reverse_string(s):\n",
        "    return \"\".join(reversed(s))\n",
        "\n",
        "string = \"Hello, World!\"\n",
        "print(reverse_string(string))\n",
        "''\n",
        "''\n",
        "def reverse_string(s):\n",
        "    reversed_s = \"\"\n",
        "    for char in s:\n",
        "        reversed_s = char + reversed_s\n",
        "    return reversed_s\n",
        "\n",
        "string = \"Hello, World!\"\n",
        "print(reverse_string(string))\n",
        "\n",
        "''"
      ],
      "metadata": {
        "colab": {
          "base_uri": "https://localhost:8080/",
          "height": 90
        },
        "id": "Jds5wGWCPbTt",
        "outputId": "2a299571-7c0c-4325-955d-b7064ff28ec5"
      },
      "execution_count": null,
      "outputs": [
        {
          "output_type": "stream",
          "name": "stdout",
          "text": [
            "!dlroW ,olleH\n",
            "!dlroW ,olleH\n",
            "!dlroW ,olleH\n"
          ]
        },
        {
          "output_type": "execute_result",
          "data": {
            "text/plain": [
              "''"
            ],
            "application/vnd.google.colaboratory.intrinsic+json": {
              "type": "string"
            }
          },
          "metadata": {},
          "execution_count": 6
        }
      ]
    },
    {
      "cell_type": "code",
      "source": [
        "#3.Implement a Python function that takes a list of integers and returns a new list containing the squares of\n",
        "''\n",
        "def square_numbers(numbers):\n",
        "    return [num ** 2 for num in numbers]\n",
        "\n",
        "numbers = [1, 2, 3, 4, 5]\n",
        "print(square_numbers(numbers))\n",
        "''\n",
        "''\n",
        "def square_numbers(numbers):\n",
        "    return list(map(lambda x: x ** 2, numbers))\n",
        "\n",
        "numbers = [1, 2, 3, 4, 5]\n",
        "print(square_numbers(numbers))\n",
        "''\n",
        "''\n",
        "def square_numbers(numbers):\n",
        "    squared_numbers = []\n",
        "    for num in numbers:\n",
        "        squared_numbers.append(num ** 2)\n",
        "    return squared_numbers\n",
        "\n",
        "numbers = [1, 2, 3, 4, 5]\n",
        "print(square_numbers(numbers))\n",
        "''"
      ],
      "metadata": {
        "colab": {
          "base_uri": "https://localhost:8080/",
          "height": 90
        },
        "id": "nOi7YkiaQdAK",
        "outputId": "5fec25b5-4796-40ef-e7c4-89bb9bc81921"
      },
      "execution_count": null,
      "outputs": [
        {
          "output_type": "stream",
          "name": "stdout",
          "text": [
            "[1, 4, 9, 16, 25]\n",
            "[1, 4, 9, 16, 25]\n",
            "[1, 4, 9, 16, 25]\n"
          ]
        },
        {
          "output_type": "execute_result",
          "data": {
            "text/plain": [
              "''"
            ],
            "application/vnd.google.colaboratory.intrinsic+json": {
              "type": "string"
            }
          },
          "metadata": {},
          "execution_count": 8
        }
      ]
    },
    {
      "cell_type": "code",
      "source": [
        "#4.Write a Python function that checks if a given number is prime or not from 1 to 200.\n",
        "''\n",
        "for num in range(1, 201):\n",
        "    if is_prime(num):\n",
        "        print(f\"{num} is prime\")\n",
        "\n",
        "''"
      ],
      "metadata": {
        "colab": {
          "base_uri": "https://localhost:8080/",
          "height": 870
        },
        "id": "kxSVm8vjRpeT",
        "outputId": "cb9ac809-2c67-42b2-b613-a728b1fb612b"
      },
      "execution_count": null,
      "outputs": [
        {
          "output_type": "stream",
          "name": "stdout",
          "text": [
            "2 is prime\n",
            "3 is prime\n",
            "5 is prime\n",
            "7 is prime\n",
            "11 is prime\n",
            "13 is prime\n",
            "17 is prime\n",
            "19 is prime\n",
            "23 is prime\n",
            "29 is prime\n",
            "31 is prime\n",
            "37 is prime\n",
            "41 is prime\n",
            "43 is prime\n",
            "47 is prime\n",
            "53 is prime\n",
            "59 is prime\n",
            "61 is prime\n",
            "67 is prime\n",
            "71 is prime\n",
            "73 is prime\n",
            "79 is prime\n",
            "83 is prime\n",
            "89 is prime\n",
            "97 is prime\n",
            "101 is prime\n",
            "103 is prime\n",
            "107 is prime\n",
            "109 is prime\n",
            "113 is prime\n",
            "127 is prime\n",
            "131 is prime\n",
            "137 is prime\n",
            "139 is prime\n",
            "149 is prime\n",
            "151 is prime\n",
            "157 is prime\n",
            "163 is prime\n",
            "167 is prime\n",
            "173 is prime\n",
            "179 is prime\n",
            "181 is prime\n",
            "191 is prime\n",
            "193 is prime\n",
            "197 is prime\n",
            "199 is prime\n"
          ]
        },
        {
          "output_type": "execute_result",
          "data": {
            "text/plain": [
              "''"
            ],
            "application/vnd.google.colaboratory.intrinsic+json": {
              "type": "string"
            }
          },
          "metadata": {},
          "execution_count": 10
        }
      ]
    },
    {
      "cell_type": "code",
      "source": [
        "#5.. Create an iterator class in Python that generates the Fibonacci sequence up to a specified number of\n",
        "''\n",
        "fib_iterator = FibonacciIterator(10)\n",
        "for num in fib_iterator:\n",
        "    print(num)\n",
        "\n",
        "''\n"
      ],
      "metadata": {
        "colab": {
          "base_uri": "https://localhost:8080/",
          "height": 217
        },
        "id": "uOEC0JdQSGMX",
        "outputId": "7f6fceff-400c-484e-def7-2be630042651"
      },
      "execution_count": null,
      "outputs": [
        {
          "output_type": "stream",
          "name": "stdout",
          "text": [
            "0\n",
            "1\n",
            "1\n",
            "2\n",
            "3\n",
            "5\n",
            "8\n",
            "13\n",
            "21\n",
            "34\n"
          ]
        },
        {
          "output_type": "execute_result",
          "data": {
            "text/plain": [
              "''"
            ],
            "application/vnd.google.colaboratory.intrinsic+json": {
              "type": "string"
            }
          },
          "metadata": {},
          "execution_count": 15
        }
      ]
    },
    {
      "cell_type": "code",
      "source": [
        "#6.Write a generator function in Python that yields the powers of 2 up to a given exponent.\n",
        "''\n",
        "for power in powers_of_two(5):\n",
        "    print(power)\n",
        "\n",
        "''\n"
      ],
      "metadata": {
        "colab": {
          "base_uri": "https://localhost:8080/",
          "height": 144
        },
        "id": "WFtENBhQTFJO",
        "outputId": "8e36a614-7297-4e05-ee0c-034171eee441"
      },
      "execution_count": null,
      "outputs": [
        {
          "output_type": "stream",
          "name": "stdout",
          "text": [
            "1\n",
            "2\n",
            "4\n",
            "8\n",
            "16\n",
            "32\n"
          ]
        },
        {
          "output_type": "execute_result",
          "data": {
            "text/plain": [
              "''"
            ],
            "application/vnd.google.colaboratory.intrinsic+json": {
              "type": "string"
            }
          },
          "metadata": {},
          "execution_count": 19
        }
      ]
    },
    {
      "cell_type": "code",
      "source": [
        "#7. Implement a generator function that reads a file line by line and yields each line as a string.\n",
        "''\n",
        "filename = 'example.txt'\n",
        "for line in read_file_line_by_line(filename):\n",
        "    print(line)\n",
        "\n",
        "\n",
        "''\n"
      ],
      "metadata": {
        "colab": {
          "base_uri": "https://localhost:8080/",
          "height": 54
        },
        "id": "G2CMOYcnTw4X",
        "outputId": "5ce35702-602e-42f6-d2a2-ce82873293ff"
      },
      "execution_count": null,
      "outputs": [
        {
          "output_type": "stream",
          "name": "stdout",
          "text": [
            "File 'example.txt' not found.\n"
          ]
        },
        {
          "output_type": "execute_result",
          "data": {
            "text/plain": [
              "''"
            ],
            "application/vnd.google.colaboratory.intrinsic+json": {
              "type": "string"
            }
          },
          "metadata": {},
          "execution_count": 24
        }
      ]
    },
    {
      "cell_type": "code",
      "source": [
        "#8. Use a lambda function in Python to sort a list of tuples based on the second element of each tuple.\n",
        "''\n",
        "\n",
        "# Define the list of tuples\n",
        "tuples_list = [(3, 6), (1, 9), (2, 4), (4, 7), (5, 1)]\n",
        "\n",
        "# Sort the list of tuples based on the second element of each tuple\n",
        "sorted_tuples = sorted(tuples_list, key=lambda x: x[1])\n",
        "\n",
        "# Print the sorted list\n",
        "print(sorted_tuples)\n",
        "\n",
        "''"
      ],
      "metadata": {
        "colab": {
          "base_uri": "https://localhost:8080/",
          "height": 54
        },
        "id": "sqL6nMdRUkQf",
        "outputId": "ac04a361-44ee-49aa-9bec-98e8304bf77b"
      },
      "execution_count": null,
      "outputs": [
        {
          "output_type": "stream",
          "name": "stdout",
          "text": [
            "[(5, 1), (2, 4), (3, 6), (4, 7), (1, 9)]\n"
          ]
        },
        {
          "output_type": "execute_result",
          "data": {
            "text/plain": [
              "''"
            ],
            "application/vnd.google.colaboratory.intrinsic+json": {
              "type": "string"
            }
          },
          "metadata": {},
          "execution_count": 25
        }
      ]
    },
    {
      "cell_type": "code",
      "source": [
        "#9.  Write a Python program that uses `map()` to convert a list of temperatures from Celsius to Fahrenheit.\n",
        "''\n",
        "def celsius_to_fahrenheit(celsius):\n",
        "    return (celsius * 9/5) + 32\n",
        "\n",
        "# Define the list of temperatures in Celsius\n",
        "celsius_temps = [0, 10, 20, 30, 40]\n",
        "\n",
        "# Use map() to convert Celsius to Fahrenheit\n",
        "fahrenheit_temps = list(map(celsius_to_fahrenheit, celsius_temps))\n",
        "\n",
        "# Print the temperatures in Fahrenheit\n",
        "print(fahrenheit_temps)\n",
        "''"
      ],
      "metadata": {
        "colab": {
          "base_uri": "https://localhost:8080/",
          "height": 54
        },
        "id": "uLnewngaU_WD",
        "outputId": "900a2371-51db-4484-e823-a5d66f2ba1eb"
      },
      "execution_count": null,
      "outputs": [
        {
          "output_type": "stream",
          "name": "stdout",
          "text": [
            "[32.0, 50.0, 68.0, 86.0, 104.0]\n"
          ]
        },
        {
          "output_type": "execute_result",
          "data": {
            "text/plain": [
              "''"
            ],
            "application/vnd.google.colaboratory.intrinsic+json": {
              "type": "string"
            }
          },
          "metadata": {},
          "execution_count": 26
        }
      ]
    },
    {
      "cell_type": "code",
      "source": [
        "#10.Create a Python program that uses `filter()` to remove all the vowels from a given string.\n",
        "''\n",
        "def is_not_vowel(char):\n",
        "    return char.lower() not in 'aeiou'\n",
        "\n",
        "# Define the string\n",
        "string = \"Hello, World!\"\n",
        "\n",
        "# Use filter() to remove vowels\n",
        "no_vowels = ''.join(filter(is_not_vowel, string))\n",
        "\n",
        "# Print the string without vowels\n",
        "print(no_vowels)\n",
        "''\n"
      ],
      "metadata": {
        "colab": {
          "base_uri": "https://localhost:8080/",
          "height": 54
        },
        "id": "Pdu5pN0sVf-e",
        "outputId": "96fda46a-55fd-4fbf-af8e-086521a9b939"
      },
      "execution_count": null,
      "outputs": [
        {
          "output_type": "stream",
          "name": "stdout",
          "text": [
            "Hll, Wrld!\n"
          ]
        },
        {
          "output_type": "execute_result",
          "data": {
            "text/plain": [
              "''"
            ],
            "application/vnd.google.colaboratory.intrinsic+json": {
              "type": "string"
            }
          },
          "metadata": {},
          "execution_count": 27
        }
      ]
    },
    {
      "cell_type": "code",
      "source": [
        "#11. Imagine an accounting routine used in a book shop. It works on a list with sublists, which look like this\n",
        "''\n",
        "## Problem Statement\n",
        "orders = [\n",
        "    [34587, \"Learning Python, Mark Lutz\", 4, 40.95],\n",
        "    [98762, \"Programming Python, Mark Lutz\", 5, 56.80],\n",
        "    [77226, \"Head First Python, Paul Barry\", 3, 32.95],\n",
        "    [88112, \"Einführung in Python3, Bernd Klein\", 3, 24.99]\n",
        "]\n",
        "## Solution 1: Using a List Comprehension\n",
        "def process_orders(orders):\n",
        "    return [(order[0], order[2] * order[3] + 10 if order[2] * order[3] < 100 else order[2] * order[3]) for order in orders]\n",
        "\n",
        "orders = [\n",
        "    [34587, \"Learning Python, Mark Lutz\", 4, 40.95],\n",
        "    [98762, \"Programming Python, Mark Lutz\", 5, 56.80],\n",
        "    [77226, \"Head First Python, Paul Barry\", 3, 32.95],\n",
        "    [88112, \"Einführung in Python3, Bernd Klein\", 3, 24.99]\n",
        "]\n",
        "\n",
        "result = process_orders(orders)\n",
        "print(result)\n",
        "## Solution 2: Using Lambda and Map\n",
        "def process_orders(orders):\n",
        "    calculate_total = lambda order: (order[0], order[2] * order[3] + 10 if order[2] * order[3] < 100 else order[2] * order[3])\n",
        "    return list(map(calculate_total, orders))\n",
        "\n",
        "orders = [\n",
        "    [34587, \"Learning Python, Mark Lutz\", 4, 40.95],\n",
        "    [98762, \"Programming Python, Mark Lutz\", 5, 56.80],\n",
        "    [77226, \"Head First Python, Paul Barry\", 3, 32.95],\n",
        "    [88112, \"Einführung in Python3, Bernd Klein\", 3, 24.99]\n",
        "]\n",
        "\n",
        "result = process_orders(orders)\n",
        "print(result)\n",
        "''\n"
      ],
      "metadata": {
        "colab": {
          "base_uri": "https://localhost:8080/",
          "height": 72
        },
        "id": "9oyeGJzXV1kf",
        "outputId": "7f8e4f20-ee9f-4d4c-b71d-e5e76dc54982"
      },
      "execution_count": null,
      "outputs": [
        {
          "output_type": "stream",
          "name": "stdout",
          "text": [
            "[(34587, 163.8), (98762, 284.0), (77226, 108.85000000000001), (88112, 84.97)]\n",
            "[(34587, 163.8), (98762, 284.0), (77226, 108.85000000000001), (88112, 84.97)]\n"
          ]
        },
        {
          "output_type": "execute_result",
          "data": {
            "text/plain": [
              "''"
            ],
            "application/vnd.google.colaboratory.intrinsic+json": {
              "type": "string"
            }
          },
          "metadata": {},
          "execution_count": 29
        }
      ]
    }
  ]
}